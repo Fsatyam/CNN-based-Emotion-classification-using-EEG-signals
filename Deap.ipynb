{
  "nbformat": 4,
  "nbformat_minor": 0,
  "metadata": {
    "kernelspec": {
      "display_name": "Python 3",
      "language": "python",
      "name": "python3"
    },
    "language_info": {
      "codemirror_mode": {
        "name": "ipython",
        "version": 3
      },
      "file_extension": ".py",
      "mimetype": "text/x-python",
      "name": "python",
      "nbconvert_exporter": "python",
      "pygments_lexer": "ipython3",
      "version": "3.7.3"
    },
    "colab": {
      "name": "Deap.ipynb",
      "provenance": [],
      "collapsed_sections": []
    },
    "accelerator": "GPU"
  },
  "cells": [
    {
      "cell_type": "code",
      "metadata": {
        "colab": {
          "base_uri": "https://localhost:8080/"
        },
        "id": "S3NQ5D6f8xZV",
        "outputId": "da7b23f4-1c33-4092-c219-d47509597895"
      },
      "source": [
        "from google.colab import drive\n",
        "drive.mount('/content/drive')"
      ],
      "execution_count": null,
      "outputs": [
        {
          "output_type": "stream",
          "text": [
            "Drive already mounted at /content/drive; to attempt to forcibly remount, call drive.mount(\"/content/drive\", force_remount=True).\n"
          ],
          "name": "stdout"
        }
      ]
    },
    {
      "cell_type": "code",
      "metadata": {
        "colab": {
          "base_uri": "https://localhost:8080/"
        },
        "id": "_mNV4C3a9V6a",
        "outputId": "7501df12-b643-4990-ea89-22661c92b794"
      },
      "source": [
        "pip install git+https://github.com/forrestbao/pyeeg.git"
      ],
      "execution_count": null,
      "outputs": [
        {
          "output_type": "stream",
          "text": [
            "Collecting git+https://github.com/forrestbao/pyeeg.git\n",
            "  Cloning https://github.com/forrestbao/pyeeg.git to /tmp/pip-req-build-88l8fw6i\n",
            "  Running command git clone -q https://github.com/forrestbao/pyeeg.git /tmp/pip-req-build-88l8fw6i\n",
            "Requirement already satisfied (use --upgrade to upgrade): pyeeg==0.4.4 from git+https://github.com/forrestbao/pyeeg.git in /usr/local/lib/python3.6/dist-packages\n",
            "Requirement already satisfied: numpy>=1.9.2 in /usr/local/lib/python3.6/dist-packages (from pyeeg==0.4.4) (1.16.1)\n",
            "Building wheels for collected packages: pyeeg\n",
            "  Building wheel for pyeeg (setup.py) ... \u001b[?25l\u001b[?25hdone\n",
            "  Created wheel for pyeeg: filename=pyeeg-0.4.4-py2.py3-none-any.whl size=28121 sha256=4fb1291c71dcff1357805f116267211c6af3194b2c9c71d222908b8198f2e44d\n",
            "  Stored in directory: /tmp/pip-ephem-wheel-cache-ds_q67o4/wheels/2d/3f/ad/106d4fc80b61d1ea1fc18e76e7439fd98aa043d83d58eae741\n",
            "Successfully built pyeeg\n"
          ],
          "name": "stdout"
        }
      ]
    },
    {
      "cell_type": "code",
      "metadata": {
        "colab": {
          "base_uri": "https://localhost:8080/"
        },
        "id": "0SIrPxvHm-JC",
        "outputId": "bca2f33b-b438-4d7e-b3cb-4c6fc8e1d1fa"
      },
      "source": [
        "!pip install numpy==1.16.1\n",
        "#import numpy as np"
      ],
      "execution_count": null,
      "outputs": [
        {
          "output_type": "stream",
          "text": [
            "Requirement already satisfied: numpy==1.16.1 in /usr/local/lib/python3.6/dist-packages (1.16.1)\n"
          ],
          "name": "stdout"
        }
      ]
    },
    {
      "cell_type": "code",
      "metadata": {
        "id": "0nLMDbCJX8VF"
      },
      "source": [
        ""
      ],
      "execution_count": null,
      "outputs": []
    },
    {
      "cell_type": "code",
      "metadata": {
        "id": "fupwT213JlB_"
      },
      "source": [
        "import numpy as np\n",
        "import pyeeg as pe\n",
        "import pickle as pickle\n",
        "import pandas as pd\n",
        "import math\n",
        "from sklearn.preprocessing import normalize\n",
        "\n",
        "import os\n",
        "import time"
      ],
      "execution_count": null,
      "outputs": []
    },
    {
      "cell_type": "code",
      "metadata": {
        "id": "IrSxWVL7JlB_"
      },
      "source": [
        "#channel = [1,2,3,4,6,11,13,17,19,20,21,25,29,31] #15 Channels chosen to fit Emotiv Epoch+\n",
        "channel = [1,2,4,5,8,10,15,21,22,25,26,27,28,31,32]\n",
        "band = [4,8,13,22,30,45] #5 bands\n",
        "window_size = 256 #Averaging band power of 2 sec\n",
        "step_size = 16 #Each 0.125 sec update once\n",
        "sample_rate = 128 #Sampling rate of 128 Hz\n",
        "subjectList = ['01','02','03','04','05','06','07','08','09','10','11','12','13','14','15','16','17','18','19','20','21','22','23','24','25','26','27','28','29','30','31','32']\n",
        "\n",
        "#List of subjects"
      ],
      "execution_count": null,
      "outputs": []
    },
    {
      "cell_type": "code",
      "metadata": {
        "id": "Q2mOXPtxJlB_"
      },
      "source": [
        "def FFT_Processing (sub, channel, band, window_size, step_size, sample_rate):\n",
        "    '''\n",
        "    arguments:  string subject\n",
        "                list channel indice\n",
        "                list band\n",
        "                int window size for FFT\n",
        "                int step size for FFT\n",
        "                int sample rate for FFT\n",
        "    return:     void\n",
        "    '''\n",
        "    meta = []\n",
        "    with open('/content/drive/MyDrive/MTech_Project/data_preprocessed_python/s' + sub + '.dat', 'rb') as file:\n",
        "\n",
        "        subject = pickle.load(file, encoding='latin1') #resolve the python 2 data problem by encoding : latin1\n",
        "\n",
        "        for i in range (0,40):\n",
        "            # loop over 0-39 trails\n",
        "            data = subject[\"data\"][i]\n",
        "            labels = subject[\"labels\"][i]\n",
        "            start = 0;\n",
        "            #data.shape\n",
        "\n",
        "            while start + window_size < data.shape[1]:\n",
        "                meta_array = []\n",
        "                meta_data = [] #meta vector for analysis\n",
        "                for j in channel:\n",
        "                    X = data[j][start : start + window_size] #Slice raw data over 2 sec, at interval of 0.125 sec\n",
        "                    Y = pe.bin_power(X, band, sample_rate) #FFT over 2 sec of channel j, in seq of theta, alpha, low beta, high beta, gamma\n",
        "                    meta_data = meta_data + list(Y[0])\n",
        "\n",
        "                meta_array.append(np.array(meta_data))\n",
        "                meta_array.append(labels)\n",
        "\n",
        "                meta.append(np.array(meta_array))    \n",
        "                start = start + step_size\n",
        "                \n",
        "        meta = np.array(meta)\n",
        "        np.save('/content/drive/MyDrive/MTech_Project/processed_DEAP/s' + sub, meta, allow_pickle=True, fix_imports=True)\n"
      ],
      "execution_count": null,
      "outputs": []
    },
    {
      "cell_type": "code",
      "metadata": {
        "id": "UaIb2ByPJlCA"
      },
      "source": [
        "for subjects in subjectList:\n",
        "    FFT_Processing (subjects, channel, band, window_size, step_size, sample_rate)"
      ],
      "execution_count": null,
      "outputs": []
    },
    {
      "cell_type": "code",
      "metadata": {
        "id": "EZW1VR9yJlCA",
        "colab": {
          "base_uri": "https://localhost:8080/"
        },
        "outputId": "0b75e3d4-bc3d-4aef-8d5d-857e464eddcd"
      },
      "source": [
        "data_training = []\n",
        "label_training = []\n",
        "data_testing = []\n",
        "label_testing = []\n",
        "\n",
        "# save np.load\n",
        "#np_load_old = np.load\n",
        "\n",
        "# modify the default parameters of np.load\n",
        "#np.load = lambda *a,**k: np_load_old(*a, allow_pickle=True, **k)\n",
        "\n",
        "for subjects in subjectList:\n",
        "\n",
        "    with open('/content/drive/MyDrive/MTech_Project/processed_DEAP/s' + subjects + '.npy', 'rb') as file:\n",
        "        sub = np.load(file)\n",
        "        for i in range (0,sub.shape[0]):\n",
        "            #print(sub.shape[0])\n",
        "            if i % 8 == 0:\n",
        "                #print(\"hey\")\n",
        "                #print(sub[i][0])\n",
        "                data_testing.append(sub[i][0])\n",
        "                label_testing.append(sub[i][1])\n",
        "            else:\n",
        "                data_training.append(sub[i][0])\n",
        "                label_training.append(sub[i][1])\n",
        "\n",
        "# restore np.load for future normal usage\n",
        "#np.load = np_load_old\n",
        "\n",
        "np.save('/content/drive/MyDrive/MTech_Project/data_training/data_training', np.array(data_training), allow_pickle=True, fix_imports=True)\n",
        "np.save('/content/drive/MyDrive/MTech_Project/label_training/label_training', np.array(label_training), allow_pickle=True, fix_imports=True)\n",
        "print(\"training dataset:\", np.array(data_training).shape, np.array(label_training).shape)\n",
        "\n",
        "np.save('/content/drive/MyDrive/MTech_Project/data_testing/data_testing', np.array(data_testing), allow_pickle=True, fix_imports=True)\n",
        "np.save('/content/drive/MyDrive/MTech_Project/label_testing/label_testing', np.array(label_testing), allow_pickle=True, fix_imports=True)\n",
        "print(\"testing dataset:\", np.array(data_testing).shape, np.array(label_testing).shape)\n",
        "\n"
      ],
      "execution_count": null,
      "outputs": [
        {
          "output_type": "stream",
          "text": [
            "training dataset: (85400, 75) (85400, 4)\n",
            "testing dataset: (12200, 75) (12200, 4)\n"
          ],
          "name": "stdout"
        }
      ]
    },
    {
      "cell_type": "code",
      "metadata": {
        "id": "Mchn2TPLJlCA"
      },
      "source": [
        "with open('/content/drive/MyDrive/MTech_Project/data_training/data_training.npy', 'rb') as fileTrain:\n",
        "    X  = np.load(fileTrain)\n",
        "    \n",
        "with open('/content/drive/MyDrive/MTech_Project/label_training/label_training.npy', 'rb') as fileTrainL:\n",
        "    Y  = np.load(fileTrainL)\n",
        "    \n",
        "X = normalize(X)\n",
        "Z = np.ravel(Y[:, [1]])\n",
        "\n",
        "Arousal_Train = np.ravel(Y[:, [0]])\n",
        "Valence_Train = np.ravel(Y[:, [1]])\n",
        "Domain_Train = np.ravel(Y[:, [2]])\n",
        "Like_Train = np.ravel(Y[:, [3]])"
      ],
      "execution_count": null,
      "outputs": []
    },
    {
      "cell_type": "code",
      "metadata": {
        "id": "XGxbBUCDJlCA"
      },
      "source": [
        "import keras\n",
        "import keras.backend as K\n",
        "from keras.layers.convolutional import Conv1D\n",
        "from keras.models import Sequential\n",
        "from keras.utils import to_categorical \n",
        "from keras.layers import Dense, Dropout, Flatten, MaxPooling2D\n",
        "from keras.models import Model\n",
        "import timeit\n",
        "from keras.layers.convolutional import MaxPooling1D, ZeroPadding1D\n",
        "from keras.optimizers import SGD\n",
        "import matplotlib.pyplot as plt\n",
        "import warnings\n",
        "warnings.filterwarnings('ignore')\n"
      ],
      "execution_count": null,
      "outputs": []
    },
    {
      "cell_type": "code",
      "metadata": {
        "id": "z55_-2v6JlCA",
        "colab": {
          "base_uri": "https://localhost:8080/"
        },
        "outputId": "016b3f19-561b-422d-f001-fda3f7fb33d4"
      },
      "source": [
        "from keras.utils import to_categorical\n",
        "y_train = to_categorical(Z)\n",
        "y_train"
      ],
      "execution_count": null,
      "outputs": [
        {
          "output_type": "execute_result",
          "data": {
            "text/plain": [
              "array([[0., 0., 0., ..., 1., 0., 0.],\n",
              "       [0., 0., 0., ..., 1., 0., 0.],\n",
              "       [0., 0., 0., ..., 1., 0., 0.],\n",
              "       ...,\n",
              "       [0., 0., 0., ..., 0., 0., 0.],\n",
              "       [0., 0., 0., ..., 0., 0., 0.],\n",
              "       [0., 0., 0., ..., 0., 0., 0.]], dtype=float32)"
            ]
          },
          "metadata": {
            "tags": []
          },
          "execution_count": 76
        }
      ]
    },
    {
      "cell_type": "code",
      "metadata": {
        "id": "5A5H1uvlJlCB"
      },
      "source": [
        "x_train = np.array(X[:])"
      ],
      "execution_count": null,
      "outputs": []
    },
    {
      "cell_type": "code",
      "metadata": {
        "id": "LIfiikatJlCB"
      },
      "source": [
        "with open('/content/drive/MyDrive/MTech_Project/data_testing/data_testing.npy', 'rb') as fileTrain:\n",
        "    M  = np.load(fileTrain)\n",
        "    \n",
        "with open('/content/drive/MyDrive/MTech_Project/label_testing/label_testing.npy', 'rb') as fileTrainL:\n",
        "    N  = np.load(fileTrainL)\n",
        "\n",
        "M = normalize(M)\n",
        "L = np.ravel(N[:, [1]])\n",
        "\n",
        "Arousal_Test = np.ravel(N[:, [0]])\n",
        "Valence_Test = np.ravel(N[:, [1]])\n",
        "Domain_Test = np.ravel(N[:, [2]])\n",
        "Like_Test = np.ravel(N[:, [3]])"
      ],
      "execution_count": null,
      "outputs": []
    },
    {
      "cell_type": "code",
      "metadata": {
        "id": "WXYrxe6oJlCB"
      },
      "source": [
        "x_test = np.array(M[:])"
      ],
      "execution_count": null,
      "outputs": []
    },
    {
      "cell_type": "code",
      "metadata": {
        "id": "T6Gva1_rJlCB",
        "colab": {
          "base_uri": "https://localhost:8080/"
        },
        "outputId": "9a1a1eee-1b11-454b-9c7d-967a41ae379a"
      },
      "source": [
        "from keras.utils import to_categorical\n",
        "y_test = to_categorical(L)\n",
        "y_test"
      ],
      "execution_count": null,
      "outputs": [
        {
          "output_type": "execute_result",
          "data": {
            "text/plain": [
              "array([[0., 0., 0., ..., 1., 0., 0.],\n",
              "       [0., 0., 0., ..., 1., 0., 0.],\n",
              "       [0., 0., 0., ..., 1., 0., 0.],\n",
              "       ...,\n",
              "       [0., 0., 0., ..., 0., 0., 0.],\n",
              "       [0., 0., 0., ..., 0., 0., 0.],\n",
              "       [0., 0., 0., ..., 0., 0., 0.]], dtype=float32)"
            ]
          },
          "metadata": {
            "tags": []
          },
          "execution_count": 80
        }
      ]
    },
    {
      "cell_type": "code",
      "metadata": {
        "id": "2Pzf0OhtJlCB"
      },
      "source": [
        "from sklearn.preprocessing import StandardScaler\n",
        "scaler = StandardScaler()\n",
        "x_train = scaler.fit_transform(x_train)\n",
        "x_test = scaler.fit_transform(x_test)"
      ],
      "execution_count": null,
      "outputs": []
    },
    {
      "cell_type": "code",
      "metadata": {
        "id": "2A-iZ57fJlCB"
      },
      "source": [
        "x_train = x_train.reshape(x_train.shape[0],x_train.shape[1], 1)\n",
        "x_test = x_test.reshape(x_test.shape[0],x_test.shape[1], 1)"
      ],
      "execution_count": null,
      "outputs": []
    },
    {
      "cell_type": "code",
      "metadata": {
        "id": "uF2jcHDSJlCC",
        "colab": {
          "base_uri": "https://localhost:8080/"
        },
        "outputId": "c04ee1a4-97ee-4b19-f677-26e1d19995fe"
      },
      "source": [
        "x_train.shape"
      ],
      "execution_count": null,
      "outputs": [
        {
          "output_type": "execute_result",
          "data": {
            "text/plain": [
              "(85400, 75, 1)"
            ]
          },
          "metadata": {
            "tags": []
          },
          "execution_count": 83
        }
      ]
    },
    {
      "cell_type": "code",
      "metadata": {
        "id": "9MfMfglfJlCC"
      },
      "source": [
        "batch_size = 256\n",
        "num_classes = 10\n",
        "epochs = 200\n",
        "input_shape=(x_train.shape[1], 1)"
      ],
      "execution_count": null,
      "outputs": []
    },
    {
      "cell_type": "code",
      "metadata": {
        "id": "6XQUrEmvJlCC",
        "colab": {
          "base_uri": "https://localhost:8080/"
        },
        "outputId": "147d3e41-53a5-498b-aa67-405857876d2c"
      },
      "source": [
        "print(input_shape)"
      ],
      "execution_count": null,
      "outputs": [
        {
          "output_type": "stream",
          "text": [
            "(75, 1)\n"
          ],
          "name": "stdout"
        }
      ]
    },
    {
      "cell_type": "code",
      "metadata": {
        "id": "6--0z39WJlCC"
      },
      "source": [
        "from keras.layers import Convolution1D, ZeroPadding1D, MaxPooling1D, BatchNormalization, Activation, Dropout, Flatten, Dense\n",
        "from keras.regularizers import l2"
      ],
      "execution_count": null,
      "outputs": []
    },
    {
      "cell_type": "code",
      "metadata": {
        "id": "YB-5C_qLJlCC",
        "colab": {
          "base_uri": "https://localhost:8080/"
        },
        "outputId": "c062ea5b-fa8f-4619-aede-7880575d8adf"
      },
      "source": [
        "model = Sequential()\n",
        "intput_shape=(x_train.shape[1], 1)\n",
        "model.add(Conv1D(128, kernel_size=3,padding = 'same',activation='relu', input_shape=input_shape))\n",
        "model.add(BatchNormalization())\n",
        "model.add(MaxPooling1D(pool_size=(2)))\n",
        "model.add(Conv1D(128,kernel_size=3,padding = 'same', activation='relu'))\n",
        "model.add(BatchNormalization())\n",
        "model.add(MaxPooling1D(pool_size=(2)))\n",
        "#model.add(Conv1D(64,kernel_size=3,padding = 'same', activation='relu'))\n",
        "#model.add(MaxPooling1D(pool_size=(2)))\n",
        "model.add(Flatten())\n",
        "model.add(Dense(64, activation='relu'))\n",
        "model.add(Dropout(0.2))\n",
        "model.add(Dense(32, activation='relu'))\n",
        "model.add(Dropout(0.2))\n",
        "model.add(Dense(16, activation='relu'))\n",
        "model.add(Dropout(0.2))\n",
        "model.add(Dense(num_classes, activation='softmax'))\n",
        "model.summary()"
      ],
      "execution_count": null,
      "outputs": [
        {
          "output_type": "stream",
          "text": [
            "Model: \"sequential_3\"\n",
            "_________________________________________________________________\n",
            "Layer (type)                 Output Shape              Param #   \n",
            "=================================================================\n",
            "conv1d_6 (Conv1D)            (None, 75, 128)           512       \n",
            "_________________________________________________________________\n",
            "batch_normalization_6 (Batch (None, 75, 128)           512       \n",
            "_________________________________________________________________\n",
            "max_pooling1d_6 (MaxPooling1 (None, 37, 128)           0         \n",
            "_________________________________________________________________\n",
            "conv1d_7 (Conv1D)            (None, 37, 128)           49280     \n",
            "_________________________________________________________________\n",
            "batch_normalization_7 (Batch (None, 37, 128)           512       \n",
            "_________________________________________________________________\n",
            "max_pooling1d_7 (MaxPooling1 (None, 18, 128)           0         \n",
            "_________________________________________________________________\n",
            "flatten_3 (Flatten)          (None, 2304)              0         \n",
            "_________________________________________________________________\n",
            "dense_12 (Dense)             (None, 64)                147520    \n",
            "_________________________________________________________________\n",
            "dropout_9 (Dropout)          (None, 64)                0         \n",
            "_________________________________________________________________\n",
            "dense_13 (Dense)             (None, 32)                2080      \n",
            "_________________________________________________________________\n",
            "dropout_10 (Dropout)         (None, 32)                0         \n",
            "_________________________________________________________________\n",
            "dense_14 (Dense)             (None, 16)                528       \n",
            "_________________________________________________________________\n",
            "dropout_11 (Dropout)         (None, 16)                0         \n",
            "_________________________________________________________________\n",
            "dense_15 (Dense)             (None, 10)                170       \n",
            "=================================================================\n",
            "Total params: 201,114\n",
            "Trainable params: 200,602\n",
            "Non-trainable params: 512\n",
            "_________________________________________________________________\n"
          ],
          "name": "stdout"
        }
      ]
    },
    {
      "cell_type": "code",
      "metadata": {
        "id": "9Yy3SyqQJlCC"
      },
      "source": [
        "model.compile(loss=keras.losses.categorical_crossentropy,\n",
        "              optimizer='adam',\n",
        "              metrics=['accuracy'])"
      ],
      "execution_count": null,
      "outputs": []
    },
    {
      "cell_type": "code",
      "metadata": {
        "id": "7dhES6KfJlCC",
        "colab": {
          "base_uri": "https://localhost:8080/"
        },
        "outputId": "18688411-d798-45e9-e43f-58645aaf2cf9"
      },
      "source": [
        "history = model.fit(x_train, y_train,\n",
        "          batch_size=batch_size,\n",
        "          epochs=epochs,\n",
        "          verbose=1)\n"
      ],
      "execution_count": null,
      "outputs": [
        {
          "output_type": "stream",
          "text": [
            "Epoch 1/200\n",
            "334/334 [==============================] - 3s 8ms/step - loss: 2.0534 - accuracy: 0.2383\n",
            "Epoch 2/200\n",
            "334/334 [==============================] - 3s 8ms/step - loss: 1.8941 - accuracy: 0.2822\n",
            "Epoch 3/200\n",
            "334/334 [==============================] - 3s 8ms/step - loss: 1.8146 - accuracy: 0.3135\n",
            "Epoch 4/200\n",
            "334/334 [==============================] - 3s 8ms/step - loss: 1.7526 - accuracy: 0.3371\n",
            "Epoch 5/200\n",
            "334/334 [==============================] - 3s 8ms/step - loss: 1.6987 - accuracy: 0.3591\n",
            "Epoch 6/200\n",
            "334/334 [==============================] - 3s 8ms/step - loss: 1.6488 - accuracy: 0.3784\n",
            "Epoch 7/200\n",
            "334/334 [==============================] - 3s 8ms/step - loss: 1.6058 - accuracy: 0.3964\n",
            "Epoch 8/200\n",
            "334/334 [==============================] - 3s 8ms/step - loss: 1.5605 - accuracy: 0.4154\n",
            "Epoch 9/200\n",
            "334/334 [==============================] - 3s 8ms/step - loss: 1.5160 - accuracy: 0.4340\n",
            "Epoch 10/200\n",
            "334/334 [==============================] - 3s 8ms/step - loss: 1.4709 - accuracy: 0.4538\n",
            "Epoch 11/200\n",
            "334/334 [==============================] - 3s 8ms/step - loss: 1.4368 - accuracy: 0.4666\n",
            "Epoch 12/200\n",
            "334/334 [==============================] - 3s 8ms/step - loss: 1.3959 - accuracy: 0.4865\n",
            "Epoch 13/200\n",
            "334/334 [==============================] - 3s 8ms/step - loss: 1.3650 - accuracy: 0.4981\n",
            "Epoch 14/200\n",
            "334/334 [==============================] - 3s 8ms/step - loss: 1.3262 - accuracy: 0.5135\n",
            "Epoch 15/200\n",
            "334/334 [==============================] - 3s 8ms/step - loss: 1.3017 - accuracy: 0.5239\n",
            "Epoch 16/200\n",
            "334/334 [==============================] - 3s 8ms/step - loss: 1.2723 - accuracy: 0.5352\n",
            "Epoch 17/200\n",
            "334/334 [==============================] - 3s 8ms/step - loss: 1.2482 - accuracy: 0.5457\n",
            "Epoch 18/200\n",
            "334/334 [==============================] - 3s 8ms/step - loss: 1.2252 - accuracy: 0.5536\n",
            "Epoch 19/200\n",
            "334/334 [==============================] - 3s 8ms/step - loss: 1.2069 - accuracy: 0.5604\n",
            "Epoch 20/200\n",
            "334/334 [==============================] - 3s 8ms/step - loss: 1.1873 - accuracy: 0.5679\n",
            "Epoch 21/200\n",
            "334/334 [==============================] - 3s 8ms/step - loss: 1.1586 - accuracy: 0.5796\n",
            "Epoch 22/200\n",
            "334/334 [==============================] - 3s 8ms/step - loss: 1.1494 - accuracy: 0.5819\n",
            "Epoch 23/200\n",
            "334/334 [==============================] - 3s 8ms/step - loss: 1.1297 - accuracy: 0.5891\n",
            "Epoch 24/200\n",
            "334/334 [==============================] - 3s 8ms/step - loss: 1.1213 - accuracy: 0.5940\n",
            "Epoch 25/200\n",
            "334/334 [==============================] - 3s 8ms/step - loss: 1.0986 - accuracy: 0.6019\n",
            "Epoch 26/200\n",
            "334/334 [==============================] - 3s 8ms/step - loss: 1.0919 - accuracy: 0.6054\n",
            "Epoch 27/200\n",
            "334/334 [==============================] - 3s 8ms/step - loss: 1.0725 - accuracy: 0.6120\n",
            "Epoch 28/200\n",
            "334/334 [==============================] - 3s 8ms/step - loss: 1.0625 - accuracy: 0.6169\n",
            "Epoch 29/200\n",
            "334/334 [==============================] - 3s 8ms/step - loss: 1.0542 - accuracy: 0.6199\n",
            "Epoch 30/200\n",
            "334/334 [==============================] - 3s 8ms/step - loss: 1.0469 - accuracy: 0.6231\n",
            "Epoch 31/200\n",
            "334/334 [==============================] - 3s 8ms/step - loss: 1.0345 - accuracy: 0.6270\n",
            "Epoch 32/200\n",
            "334/334 [==============================] - 3s 8ms/step - loss: 1.0207 - accuracy: 0.6308\n",
            "Epoch 33/200\n",
            "334/334 [==============================] - 3s 8ms/step - loss: 1.0114 - accuracy: 0.6361\n",
            "Epoch 34/200\n",
            "334/334 [==============================] - 3s 8ms/step - loss: 0.9998 - accuracy: 0.6401\n",
            "Epoch 35/200\n",
            "334/334 [==============================] - 3s 8ms/step - loss: 0.9952 - accuracy: 0.6432\n",
            "Epoch 36/200\n",
            "334/334 [==============================] - 3s 8ms/step - loss: 0.9815 - accuracy: 0.6484\n",
            "Epoch 37/200\n",
            "334/334 [==============================] - 3s 8ms/step - loss: 0.9772 - accuracy: 0.6502\n",
            "Epoch 38/200\n",
            "334/334 [==============================] - 3s 8ms/step - loss: 0.9707 - accuracy: 0.6515\n",
            "Epoch 39/200\n",
            "334/334 [==============================] - 3s 8ms/step - loss: 0.9668 - accuracy: 0.6553\n",
            "Epoch 40/200\n",
            "334/334 [==============================] - 3s 8ms/step - loss: 0.9554 - accuracy: 0.6575\n",
            "Epoch 41/200\n",
            "334/334 [==============================] - 3s 8ms/step - loss: 0.9482 - accuracy: 0.6606\n",
            "Epoch 42/200\n",
            "334/334 [==============================] - 3s 8ms/step - loss: 0.9421 - accuracy: 0.6623\n",
            "Epoch 43/200\n",
            "334/334 [==============================] - 3s 8ms/step - loss: 0.9341 - accuracy: 0.6663\n",
            "Epoch 44/200\n",
            "334/334 [==============================] - 3s 8ms/step - loss: 0.9309 - accuracy: 0.6690\n",
            "Epoch 45/200\n",
            "334/334 [==============================] - 3s 8ms/step - loss: 0.9201 - accuracy: 0.6738\n",
            "Epoch 46/200\n",
            "334/334 [==============================] - 3s 8ms/step - loss: 0.9189 - accuracy: 0.6725\n",
            "Epoch 47/200\n",
            "334/334 [==============================] - 3s 8ms/step - loss: 0.9103 - accuracy: 0.6757\n",
            "Epoch 48/200\n",
            "334/334 [==============================] - 3s 8ms/step - loss: 0.9055 - accuracy: 0.6783\n",
            "Epoch 49/200\n",
            "334/334 [==============================] - 3s 8ms/step - loss: 0.8973 - accuracy: 0.6806\n",
            "Epoch 50/200\n",
            "334/334 [==============================] - 3s 8ms/step - loss: 0.8881 - accuracy: 0.6835\n",
            "Epoch 51/200\n",
            "334/334 [==============================] - 3s 8ms/step - loss: 0.8826 - accuracy: 0.6856\n",
            "Epoch 52/200\n",
            "334/334 [==============================] - 3s 8ms/step - loss: 0.8754 - accuracy: 0.6882\n",
            "Epoch 53/200\n",
            "334/334 [==============================] - 3s 8ms/step - loss: 0.8769 - accuracy: 0.6899\n",
            "Epoch 54/200\n",
            "334/334 [==============================] - 3s 8ms/step - loss: 0.8759 - accuracy: 0.6876\n",
            "Epoch 55/200\n",
            "334/334 [==============================] - 3s 8ms/step - loss: 0.8636 - accuracy: 0.6944\n",
            "Epoch 56/200\n",
            "334/334 [==============================] - 3s 8ms/step - loss: 0.8653 - accuracy: 0.6935\n",
            "Epoch 57/200\n",
            "334/334 [==============================] - 3s 8ms/step - loss: 0.8535 - accuracy: 0.6980\n",
            "Epoch 58/200\n",
            "334/334 [==============================] - 3s 8ms/step - loss: 0.8537 - accuracy: 0.6980\n",
            "Epoch 59/200\n",
            "334/334 [==============================] - 3s 8ms/step - loss: 0.8428 - accuracy: 0.7020\n",
            "Epoch 60/200\n",
            "334/334 [==============================] - 3s 8ms/step - loss: 0.8449 - accuracy: 0.6995\n",
            "Epoch 61/200\n",
            "334/334 [==============================] - 3s 8ms/step - loss: 0.8411 - accuracy: 0.7024\n",
            "Epoch 62/200\n",
            "334/334 [==============================] - 3s 8ms/step - loss: 0.8350 - accuracy: 0.7046\n",
            "Epoch 63/200\n",
            "334/334 [==============================] - 3s 8ms/step - loss: 0.8305 - accuracy: 0.7063\n",
            "Epoch 64/200\n",
            "334/334 [==============================] - 3s 8ms/step - loss: 0.8223 - accuracy: 0.7086\n",
            "Epoch 65/200\n",
            "334/334 [==============================] - 3s 8ms/step - loss: 0.8269 - accuracy: 0.7063\n",
            "Epoch 66/200\n",
            "334/334 [==============================] - 3s 8ms/step - loss: 0.8222 - accuracy: 0.7084\n",
            "Epoch 67/200\n",
            "334/334 [==============================] - 3s 8ms/step - loss: 0.8216 - accuracy: 0.7079\n",
            "Epoch 68/200\n",
            "334/334 [==============================] - 3s 8ms/step - loss: 0.8143 - accuracy: 0.7128\n",
            "Epoch 69/200\n",
            "334/334 [==============================] - 3s 8ms/step - loss: 0.8080 - accuracy: 0.7140\n",
            "Epoch 70/200\n",
            "334/334 [==============================] - 3s 8ms/step - loss: 0.8043 - accuracy: 0.7163\n",
            "Epoch 71/200\n",
            "334/334 [==============================] - 3s 8ms/step - loss: 0.8023 - accuracy: 0.7168\n",
            "Epoch 72/200\n",
            "334/334 [==============================] - 3s 8ms/step - loss: 0.7965 - accuracy: 0.7187\n",
            "Epoch 73/200\n",
            "334/334 [==============================] - 3s 8ms/step - loss: 0.7990 - accuracy: 0.7175\n",
            "Epoch 74/200\n",
            "334/334 [==============================] - 3s 8ms/step - loss: 0.7925 - accuracy: 0.7199\n",
            "Epoch 75/200\n",
            "334/334 [==============================] - 3s 8ms/step - loss: 0.7887 - accuracy: 0.7203\n",
            "Epoch 76/200\n",
            "334/334 [==============================] - 3s 8ms/step - loss: 0.7873 - accuracy: 0.7207\n",
            "Epoch 77/200\n",
            "334/334 [==============================] - 3s 8ms/step - loss: 0.7773 - accuracy: 0.7252\n",
            "Epoch 78/200\n",
            "334/334 [==============================] - 3s 8ms/step - loss: 0.7786 - accuracy: 0.7244\n",
            "Epoch 79/200\n",
            "334/334 [==============================] - 3s 8ms/step - loss: 0.7699 - accuracy: 0.7274\n",
            "Epoch 80/200\n",
            "334/334 [==============================] - 3s 8ms/step - loss: 0.7714 - accuracy: 0.7293\n",
            "Epoch 81/200\n",
            "334/334 [==============================] - 3s 8ms/step - loss: 0.7700 - accuracy: 0.7277\n",
            "Epoch 82/200\n",
            "334/334 [==============================] - 3s 8ms/step - loss: 0.7665 - accuracy: 0.7286\n",
            "Epoch 83/200\n",
            "334/334 [==============================] - 3s 8ms/step - loss: 0.7623 - accuracy: 0.7314\n",
            "Epoch 84/200\n",
            "334/334 [==============================] - 3s 8ms/step - loss: 0.7562 - accuracy: 0.7336\n",
            "Epoch 85/200\n",
            "334/334 [==============================] - 3s 8ms/step - loss: 0.7531 - accuracy: 0.7335\n",
            "Epoch 86/200\n",
            "334/334 [==============================] - 3s 8ms/step - loss: 0.7537 - accuracy: 0.7326\n",
            "Epoch 87/200\n",
            "334/334 [==============================] - 3s 8ms/step - loss: 0.7503 - accuracy: 0.7358\n",
            "Epoch 88/200\n",
            "334/334 [==============================] - 3s 8ms/step - loss: 0.7493 - accuracy: 0.7352\n",
            "Epoch 89/200\n",
            "334/334 [==============================] - 3s 8ms/step - loss: 0.7524 - accuracy: 0.7358\n",
            "Epoch 90/200\n",
            "334/334 [==============================] - 3s 8ms/step - loss: 0.7497 - accuracy: 0.7353\n",
            "Epoch 91/200\n",
            "334/334 [==============================] - 3s 8ms/step - loss: 0.7386 - accuracy: 0.7399\n",
            "Epoch 92/200\n",
            "334/334 [==============================] - 3s 8ms/step - loss: 0.7337 - accuracy: 0.7418\n",
            "Epoch 93/200\n",
            "334/334 [==============================] - 3s 8ms/step - loss: 0.7380 - accuracy: 0.7406\n",
            "Epoch 94/200\n",
            "334/334 [==============================] - 3s 8ms/step - loss: 0.7400 - accuracy: 0.7393\n",
            "Epoch 95/200\n",
            "334/334 [==============================] - 3s 8ms/step - loss: 0.7337 - accuracy: 0.7408\n",
            "Epoch 96/200\n",
            "334/334 [==============================] - 3s 8ms/step - loss: 0.7300 - accuracy: 0.7426\n",
            "Epoch 97/200\n",
            "334/334 [==============================] - 3s 8ms/step - loss: 0.7324 - accuracy: 0.7434\n",
            "Epoch 98/200\n",
            "334/334 [==============================] - 3s 8ms/step - loss: 0.7279 - accuracy: 0.7438\n",
            "Epoch 99/200\n",
            "334/334 [==============================] - 3s 8ms/step - loss: 0.7275 - accuracy: 0.7452\n",
            "Epoch 100/200\n",
            "334/334 [==============================] - 3s 8ms/step - loss: 0.7300 - accuracy: 0.7439\n",
            "Epoch 101/200\n",
            "334/334 [==============================] - 3s 8ms/step - loss: 0.7162 - accuracy: 0.7467\n",
            "Epoch 102/200\n",
            "334/334 [==============================] - 3s 8ms/step - loss: 0.7179 - accuracy: 0.7475\n",
            "Epoch 103/200\n",
            "334/334 [==============================] - 3s 8ms/step - loss: 0.7213 - accuracy: 0.7459\n",
            "Epoch 104/200\n",
            "334/334 [==============================] - 3s 8ms/step - loss: 0.7168 - accuracy: 0.7498\n",
            "Epoch 105/200\n",
            "334/334 [==============================] - 3s 8ms/step - loss: 0.7087 - accuracy: 0.7499\n",
            "Epoch 106/200\n",
            "334/334 [==============================] - 3s 8ms/step - loss: 0.7124 - accuracy: 0.7503\n",
            "Epoch 107/200\n",
            "334/334 [==============================] - 3s 8ms/step - loss: 0.7020 - accuracy: 0.7532\n",
            "Epoch 108/200\n",
            "334/334 [==============================] - 3s 8ms/step - loss: 0.7070 - accuracy: 0.7519\n",
            "Epoch 109/200\n",
            "334/334 [==============================] - 3s 8ms/step - loss: 0.7056 - accuracy: 0.7519\n",
            "Epoch 110/200\n",
            "334/334 [==============================] - 3s 8ms/step - loss: 0.6988 - accuracy: 0.7547\n",
            "Epoch 111/200\n",
            "334/334 [==============================] - 3s 8ms/step - loss: 0.7034 - accuracy: 0.7523\n",
            "Epoch 112/200\n",
            "334/334 [==============================] - 3s 8ms/step - loss: 0.6953 - accuracy: 0.7539\n",
            "Epoch 113/200\n",
            "334/334 [==============================] - 3s 8ms/step - loss: 0.6910 - accuracy: 0.7562\n",
            "Epoch 114/200\n",
            "334/334 [==============================] - 3s 8ms/step - loss: 0.7012 - accuracy: 0.7527\n",
            "Epoch 115/200\n",
            "334/334 [==============================] - 3s 8ms/step - loss: 0.6923 - accuracy: 0.7569\n",
            "Epoch 116/200\n",
            "334/334 [==============================] - 3s 8ms/step - loss: 0.6956 - accuracy: 0.7551\n",
            "Epoch 117/200\n",
            "334/334 [==============================] - 3s 8ms/step - loss: 0.6882 - accuracy: 0.7574\n",
            "Epoch 118/200\n",
            "334/334 [==============================] - 3s 8ms/step - loss: 0.6922 - accuracy: 0.7573\n",
            "Epoch 119/200\n",
            "334/334 [==============================] - 3s 8ms/step - loss: 0.6789 - accuracy: 0.7615\n",
            "Epoch 120/200\n",
            "334/334 [==============================] - 3s 8ms/step - loss: 0.6833 - accuracy: 0.7589\n",
            "Epoch 121/200\n",
            "334/334 [==============================] - 3s 8ms/step - loss: 0.6832 - accuracy: 0.7600\n",
            "Epoch 122/200\n",
            "334/334 [==============================] - 3s 8ms/step - loss: 0.6863 - accuracy: 0.7597\n",
            "Epoch 123/200\n",
            "334/334 [==============================] - 3s 8ms/step - loss: 0.6795 - accuracy: 0.7622\n",
            "Epoch 124/200\n",
            "334/334 [==============================] - 3s 8ms/step - loss: 0.6787 - accuracy: 0.7618\n",
            "Epoch 125/200\n",
            "334/334 [==============================] - 3s 8ms/step - loss: 0.6707 - accuracy: 0.7643\n",
            "Epoch 126/200\n",
            "334/334 [==============================] - 3s 8ms/step - loss: 0.6746 - accuracy: 0.7635\n",
            "Epoch 127/200\n",
            "334/334 [==============================] - 3s 8ms/step - loss: 0.6708 - accuracy: 0.7640\n",
            "Epoch 128/200\n",
            "334/334 [==============================] - 3s 8ms/step - loss: 0.6745 - accuracy: 0.7633\n",
            "Epoch 129/200\n",
            "334/334 [==============================] - 3s 8ms/step - loss: 0.6687 - accuracy: 0.7643\n",
            "Epoch 130/200\n",
            "334/334 [==============================] - 3s 8ms/step - loss: 0.6677 - accuracy: 0.7649\n",
            "Epoch 131/200\n",
            "334/334 [==============================] - 3s 8ms/step - loss: 0.6685 - accuracy: 0.7643\n",
            "Epoch 132/200\n",
            "334/334 [==============================] - 3s 8ms/step - loss: 0.6583 - accuracy: 0.7679\n",
            "Epoch 133/200\n",
            "334/334 [==============================] - 3s 8ms/step - loss: 0.6629 - accuracy: 0.7659\n",
            "Epoch 134/200\n",
            "334/334 [==============================] - 3s 8ms/step - loss: 0.6641 - accuracy: 0.7672\n",
            "Epoch 135/200\n",
            "334/334 [==============================] - 3s 8ms/step - loss: 0.6585 - accuracy: 0.7692\n",
            "Epoch 136/200\n",
            "334/334 [==============================] - 3s 8ms/step - loss: 0.6596 - accuracy: 0.7688\n",
            "Epoch 137/200\n",
            "334/334 [==============================] - 3s 8ms/step - loss: 0.6514 - accuracy: 0.7721\n",
            "Epoch 138/200\n",
            "334/334 [==============================] - 3s 8ms/step - loss: 0.6577 - accuracy: 0.7700\n",
            "Epoch 139/200\n",
            "334/334 [==============================] - 3s 8ms/step - loss: 0.6544 - accuracy: 0.7712\n",
            "Epoch 140/200\n",
            "334/334 [==============================] - 3s 8ms/step - loss: 0.6512 - accuracy: 0.7698\n",
            "Epoch 141/200\n",
            "334/334 [==============================] - 3s 8ms/step - loss: 0.6546 - accuracy: 0.7709\n",
            "Epoch 142/200\n",
            "334/334 [==============================] - 3s 8ms/step - loss: 0.6495 - accuracy: 0.7710\n",
            "Epoch 143/200\n",
            "334/334 [==============================] - 3s 8ms/step - loss: 0.6530 - accuracy: 0.7701\n",
            "Epoch 144/200\n",
            "334/334 [==============================] - 3s 8ms/step - loss: 0.6444 - accuracy: 0.7737\n",
            "Epoch 145/200\n",
            "334/334 [==============================] - 3s 8ms/step - loss: 0.6434 - accuracy: 0.7747\n",
            "Epoch 146/200\n",
            "334/334 [==============================] - 3s 8ms/step - loss: 0.6477 - accuracy: 0.7741\n",
            "Epoch 147/200\n",
            "334/334 [==============================] - 3s 8ms/step - loss: 0.6386 - accuracy: 0.7762\n",
            "Epoch 148/200\n",
            "334/334 [==============================] - 3s 8ms/step - loss: 0.6419 - accuracy: 0.7748\n",
            "Epoch 149/200\n",
            "334/334 [==============================] - 3s 8ms/step - loss: 0.6310 - accuracy: 0.7786\n",
            "Epoch 150/200\n",
            "334/334 [==============================] - 3s 8ms/step - loss: 0.6406 - accuracy: 0.7747\n",
            "Epoch 151/200\n",
            "334/334 [==============================] - 3s 8ms/step - loss: 0.6332 - accuracy: 0.7787\n",
            "Epoch 152/200\n",
            "334/334 [==============================] - 3s 8ms/step - loss: 0.6441 - accuracy: 0.7749\n",
            "Epoch 153/200\n",
            "334/334 [==============================] - 3s 8ms/step - loss: 0.6325 - accuracy: 0.7769\n",
            "Epoch 154/200\n",
            "334/334 [==============================] - 3s 8ms/step - loss: 0.6361 - accuracy: 0.7775\n",
            "Epoch 155/200\n",
            "334/334 [==============================] - 3s 8ms/step - loss: 0.6251 - accuracy: 0.7814\n",
            "Epoch 156/200\n",
            "334/334 [==============================] - 3s 8ms/step - loss: 0.6330 - accuracy: 0.7783\n",
            "Epoch 157/200\n",
            "334/334 [==============================] - 3s 8ms/step - loss: 0.6321 - accuracy: 0.7779\n",
            "Epoch 158/200\n",
            "334/334 [==============================] - 3s 8ms/step - loss: 0.6319 - accuracy: 0.7782\n",
            "Epoch 159/200\n",
            "334/334 [==============================] - 3s 8ms/step - loss: 0.6316 - accuracy: 0.7780\n",
            "Epoch 160/200\n",
            "334/334 [==============================] - 3s 8ms/step - loss: 0.6272 - accuracy: 0.7799\n",
            "Epoch 161/200\n",
            "334/334 [==============================] - 3s 8ms/step - loss: 0.6288 - accuracy: 0.7785\n",
            "Epoch 162/200\n",
            "334/334 [==============================] - 3s 8ms/step - loss: 0.6194 - accuracy: 0.7831\n",
            "Epoch 163/200\n",
            "334/334 [==============================] - 3s 8ms/step - loss: 0.6194 - accuracy: 0.7818\n",
            "Epoch 164/200\n",
            "334/334 [==============================] - 3s 8ms/step - loss: 0.6236 - accuracy: 0.7823\n",
            "Epoch 165/200\n",
            "334/334 [==============================] - 3s 8ms/step - loss: 0.6214 - accuracy: 0.7827\n",
            "Epoch 166/200\n",
            "334/334 [==============================] - 3s 8ms/step - loss: 0.6198 - accuracy: 0.7829\n",
            "Epoch 167/200\n",
            "334/334 [==============================] - 3s 8ms/step - loss: 0.6152 - accuracy: 0.7835\n",
            "Epoch 168/200\n",
            "334/334 [==============================] - 3s 8ms/step - loss: 0.6190 - accuracy: 0.7833\n",
            "Epoch 169/200\n",
            "334/334 [==============================] - 3s 8ms/step - loss: 0.6106 - accuracy: 0.7862\n",
            "Epoch 170/200\n",
            "334/334 [==============================] - 3s 8ms/step - loss: 0.6090 - accuracy: 0.7865\n",
            "Epoch 171/200\n",
            "334/334 [==============================] - 3s 8ms/step - loss: 0.6100 - accuracy: 0.7855\n",
            "Epoch 172/200\n",
            "334/334 [==============================] - 3s 8ms/step - loss: 0.6122 - accuracy: 0.7839\n",
            "Epoch 173/200\n",
            "334/334 [==============================] - 3s 8ms/step - loss: 0.6092 - accuracy: 0.7870\n",
            "Epoch 174/200\n",
            "334/334 [==============================] - 3s 8ms/step - loss: 0.6130 - accuracy: 0.7853\n",
            "Epoch 175/200\n",
            "334/334 [==============================] - 3s 8ms/step - loss: 0.6063 - accuracy: 0.7878\n",
            "Epoch 176/200\n",
            "334/334 [==============================] - 3s 8ms/step - loss: 0.6071 - accuracy: 0.7883\n",
            "Epoch 177/200\n",
            "334/334 [==============================] - 3s 8ms/step - loss: 0.6030 - accuracy: 0.7892\n",
            "Epoch 178/200\n",
            "334/334 [==============================] - 3s 8ms/step - loss: 0.6011 - accuracy: 0.7889\n",
            "Epoch 179/200\n",
            "334/334 [==============================] - 3s 8ms/step - loss: 0.6092 - accuracy: 0.7867\n",
            "Epoch 180/200\n",
            "334/334 [==============================] - 3s 8ms/step - loss: 0.6020 - accuracy: 0.7894\n",
            "Epoch 181/200\n",
            "334/334 [==============================] - 3s 8ms/step - loss: 0.5996 - accuracy: 0.7909\n",
            "Epoch 182/200\n",
            "334/334 [==============================] - 3s 8ms/step - loss: 0.5990 - accuracy: 0.7907\n",
            "Epoch 183/200\n",
            "334/334 [==============================] - 3s 8ms/step - loss: 0.6028 - accuracy: 0.7886\n",
            "Epoch 184/200\n",
            "334/334 [==============================] - 3s 8ms/step - loss: 0.6076 - accuracy: 0.7861\n",
            "Epoch 185/200\n",
            "334/334 [==============================] - 3s 10ms/step - loss: 0.6008 - accuracy: 0.7906\n",
            "Epoch 186/200\n",
            "334/334 [==============================] - 3s 8ms/step - loss: 0.6022 - accuracy: 0.7905\n",
            "Epoch 187/200\n",
            "334/334 [==============================] - 3s 8ms/step - loss: 0.6024 - accuracy: 0.7882\n",
            "Epoch 188/200\n",
            "334/334 [==============================] - 3s 8ms/step - loss: 0.5903 - accuracy: 0.7927\n",
            "Epoch 189/200\n",
            "334/334 [==============================] - 3s 8ms/step - loss: 0.5965 - accuracy: 0.7913\n",
            "Epoch 190/200\n",
            "334/334 [==============================] - 3s 8ms/step - loss: 0.5927 - accuracy: 0.7935\n",
            "Epoch 191/200\n",
            "334/334 [==============================] - 3s 8ms/step - loss: 0.5995 - accuracy: 0.7911\n",
            "Epoch 192/200\n",
            "334/334 [==============================] - 3s 8ms/step - loss: 0.5962 - accuracy: 0.7905\n",
            "Epoch 193/200\n",
            "334/334 [==============================] - 3s 8ms/step - loss: 0.5911 - accuracy: 0.7934\n",
            "Epoch 194/200\n",
            "334/334 [==============================] - 3s 8ms/step - loss: 0.5888 - accuracy: 0.7936\n",
            "Epoch 195/200\n",
            "334/334 [==============================] - 3s 8ms/step - loss: 0.5933 - accuracy: 0.7925\n",
            "Epoch 196/200\n",
            "334/334 [==============================] - 3s 8ms/step - loss: 0.5903 - accuracy: 0.7933\n",
            "Epoch 197/200\n",
            "334/334 [==============================] - 3s 8ms/step - loss: 0.5835 - accuracy: 0.7941\n",
            "Epoch 198/200\n",
            "334/334 [==============================] - 3s 8ms/step - loss: 0.5847 - accuracy: 0.7951\n",
            "Epoch 199/200\n",
            "334/334 [==============================] - 3s 8ms/step - loss: 0.5851 - accuracy: 0.7959\n",
            "Epoch 200/200\n",
            "334/334 [==============================] - 3s 8ms/step - loss: 0.5805 - accuracy: 0.7957\n"
          ],
          "name": "stdout"
        }
      ]
    },
    {
      "cell_type": "code",
      "metadata": {
        "colab": {
          "base_uri": "https://localhost:8080/",
          "height": 300
        },
        "id": "v6ck84Ko_UNj",
        "outputId": "dd1584dd-f27e-4149-f4ac-86c41e89e7f2"
      },
      "source": [
        "plt.plot(history.history['accuracy'], label='accuracy')\r\n",
        "plt.plot(history.history['loss'], label = 'loss')\r\n",
        "plt.xlabel('Epoch')\r\n",
        "plt.ylabel('Accuracy')\r\n",
        "plt.ylim([0.5, 1])\r\n",
        "plt.legend(loc='Upper right')\r\n",
        "\r\n",
        "test_loss, test_acc = model.evaluate(x_test, y_test, verbose=1)\r\n"
      ],
      "execution_count": null,
      "outputs": [
        {
          "output_type": "stream",
          "text": [
            "382/382 [==============================] - 1s 2ms/step - loss: 0.7430 - accuracy: 0.7961\n"
          ],
          "name": "stdout"
        },
        {
          "output_type": "display_data",
          "data": {
            "image/png": "[encoded data removed]",
            "text/plain": [
              "<Figure size 432x288 with 1 Axes>"
            ]
          },
          "metadata": {
            "tags": [],
            "needs_background": "light"
          }
        }
      ]
    },
    {
      "cell_type": "code",
      "metadata": {
        "colab": {
          "base_uri": "https://localhost:8080/"
        },
        "id": "WItRwjQz05BI",
        "outputId": "0f14cd76-7b8e-45ed-842a-569e404ab974"
      },
      "source": [
        "print('Test loss:', test_loss)\n",
        "print('Test accuracy:', test_acc)"
      ],
      "execution_count": null,
      "outputs": [
        {
          "output_type": "stream",
          "text": [
            "Test loss: 0.6190317273139954\n",
            "Test accuracy: 0.8084426522254944\n"
          ],
          "name": "stdout"
        }
      ]
    },
    {
      "cell_type": "code",
      "metadata": {
        "id": "ruUlU0AZFydV"
      },
      "source": [
        "A = model.predict(x_test)"
      ],
      "execution_count": null,
      "outputs": []
    },
    {
      "cell_type": "code",
      "metadata": {
        "colab": {
          "base_uri": "https://localhost:8080/"
        },
        "id": "wdf41L-QF1pI",
        "outputId": "1e85591b-7277-4f60-d552-cf58ed922263"
      },
      "source": [
        "A[0]"
      ],
      "execution_count": null,
      "outputs": [
        {
          "output_type": "execute_result",
          "data": {
            "text/plain": [
              "array([3.9104124e-32, 5.4737509e-05, 1.6035015e-03, 2.5269753e-04,\n",
              "       5.7713358e-05, 5.2189794e-06, 6.2019960e-04, 9.9549770e-01,\n",
              "       1.8632810e-03, 4.4945878e-05], dtype=float32)"
            ]
          },
          "metadata": {
            "tags": []
          },
          "execution_count": 93
        }
      ]
    },
    {
      "cell_type": "code",
      "metadata": {
        "colab": {
          "base_uri": "https://localhost:8080/"
        },
        "id": "2f-SZw_HGihz",
        "outputId": "b89abe1a-6b78-44e8-e42b-a857b86df978"
      },
      "source": [
        "np.round(A)"
      ],
      "execution_count": null,
      "outputs": [
        {
          "output_type": "execute_result",
          "data": {
            "text/plain": [
              "array([[0., 0., 0., ..., 1., 0., 0.],\n",
              "       [0., 0., 0., ..., 1., 0., 0.],\n",
              "       [0., 0., 0., ..., 1., 0., 0.],\n",
              "       ...,\n",
              "       [0., 0., 0., ..., 0., 0., 0.],\n",
              "       [0., 0., 0., ..., 0., 0., 0.],\n",
              "       [0., 0., 0., ..., 0., 0., 0.]], dtype=float32)"
            ]
          },
          "metadata": {
            "tags": []
          },
          "execution_count": 94
        }
      ]
    }
  ]
}